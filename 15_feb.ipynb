{
 "cells": [
  {
   "cell_type": "markdown",
   "id": "f685bc9c-6671-423e-9c3a-311e14794beb",
   "metadata": {},
   "source": [
    "Q1. What is multiprocessing in python? Why is it useful?\n",
    "Answer = Multiprocessing is a way to acheive parallelism in python using multiple process instead of using multiple thread. It allows you to take the advantage of multiple CPU or cores available on machine to perform the concurrent processing task. \n",
    "\n",
    "he multiprocessing module provides a powerful and flexible way to achieve parallelism in Python, making it a useful tool for performing computationally intensive tasks or processing large amounts of data.\n"
   ]
  },
  {
   "cell_type": "code",
   "execution_count": 9,
   "id": "34697463-5bde-4d85-aaf7-cdae257ccc2a",
   "metadata": {},
   "outputs": [
    {
     "name": "stdout",
     "output_type": "stream",
     "text": [
      "Siddhant\n",
      "Kumar\n"
     ]
    }
   ],
   "source": [
    "import multiprocessing\n",
    "\n",
    "def x1():\n",
    "    print('Siddhant')\n",
    "def x2():\n",
    "    print('Kumar')\n",
    "    \n",
    "if __name__ =='__main__':\n",
    "    n1 = multiprocessing.Process(target = x1)\n",
    "    n2 = multiprocessing.Process(target = x2)\n",
    "    n1.start()\n",
    "    n2.start()\n",
    "    n1.join()\n",
    "    n2.join()"
   ]
  },
  {
   "cell_type": "markdown",
   "id": "88454bf8-a8ec-46ce-bb69-8e706825961c",
   "metadata": {},
   "source": [
    "Q2. What are the differences between multiprocessing and multithreading?\n",
    "\n",
    "Answer = The key difference between multiprocessing and multithreading is that multiprocessing can take advantage of multiple CPUs or cores on a machine, whereas multithreading is limited to using a single CPU or core. Multiprocessing can achieve true parallelism, where multiple processes are running simultaneously on different cores, whereas multithreading can only achieve concurrency, where multiple threads are running concurrently on the same core."
   ]
  },
  {
   "cell_type": "markdown",
   "id": "b5c71b02-ed2d-43ce-b642-2540e345443f",
   "metadata": {},
   "source": [
    "Q3. Write a python code to create a process using the multiprocessing module."
   ]
  },
  {
   "cell_type": "code",
   "execution_count": 13,
   "id": "3f6ed805-5b1a-4cb2-b669-2c8fb6dd1968",
   "metadata": {},
   "outputs": [
    {
     "name": "stdout",
     "output_type": "stream",
     "text": [
      "Hello, My name is Siddhant\n",
      "I am from Gaya, Bihar.\n",
      "Currently, I am learing data science.\n",
      "good bye, see you again.\n"
     ]
    }
   ],
   "source": [
    "import multiprocessing\n",
    "\n",
    "def my_func():\n",
    "    print(\"Hello, My name is Siddhant\")\n",
    "\n",
    "if __name__ == '__main__':\n",
    "    p = multiprocessing.Process(target=my_func)\n",
    "    p.start()\n",
    "    p.join()\n",
    "    print('I am from Gaya, Bihar.')\n",
    "    print('Currently, I am learing data science.')\n",
    "    print(\"good bye, see you again.\")"
   ]
  },
  {
   "cell_type": "markdown",
   "id": "0f485e88-c163-4355-8c04-07b7c1ca4cea",
   "metadata": {},
   "source": [
    "Q4. What is a multiprocessing pool in python? Why is it used?\n",
    "\n",
    "Answer - A multiprocessing pool is a group of worker processes that can execute multiple tasks concurrently. The Pool class provides a simple way to distribute a set of tasks across a fixed number of worker processes, called the pool size. Each task is processed by one of the worker processes in the pool, and the results are collected and returned to the parent process."
   ]
  },
  {
   "cell_type": "code",
   "execution_count": 4,
   "id": "ce24731b-4044-45eb-85ba-7cc641c02bdc",
   "metadata": {},
   "outputs": [
    {
     "name": "stdout",
     "output_type": "stream",
     "text": [
      "[1, 4, 9, 16, 25]\n"
     ]
    }
   ],
   "source": [
    "import multiprocessing\n",
    "\n",
    "def square(x):\n",
    "    return x*x\n",
    "\n",
    "if __name__ == '__main__':\n",
    "    with multiprocessing.Pool(4) as p:\n",
    "        result = p.map(square, [1, 2, 3, 4, 5])\n",
    "    print(result)\n",
    "\n"
   ]
  },
  {
   "cell_type": "markdown",
   "id": "47089239-5222-4f93-bcb4-f9a178a29ef6",
   "metadata": {},
   "source": [
    "Q5. How can we create a pool of worker processes in python using the multiprocessing module?\n"
   ]
  },
  {
   "cell_type": "code",
   "execution_count": 6,
   "id": "76c0dc4c-d9b8-4516-a1c3-68c94f1309c1",
   "metadata": {},
   "outputs": [
    {
     "name": "stdout",
     "output_type": "stream",
     "text": [
      "[1, 8, 27, 64, 125]\n"
     ]
    }
   ],
   "source": [
    " import multiprocessing\n",
    "\n",
    "def cube(x):\n",
    "    return x**3\n",
    "\n",
    "if __name__ == '__main__':\n",
    "    with multiprocessing.Pool(5) as p:\n",
    "        result = p.map(cube, [1, 2, 3, 4, 5])\n",
    "    print(result)\n"
   ]
  },
  {
   "cell_type": "markdown",
   "id": "63008ce7-6a77-4d25-b1cc-887c724e7170",
   "metadata": {},
   "source": [
    "Q6. Write a python program to create 4 processes, each process should print a different number using the\n",
    "multiprocessing module in python."
   ]
  },
  {
   "cell_type": "code",
   "execution_count": 9,
   "id": "5617b54a-b6bb-4b50-a495-facf07348d6e",
   "metadata": {},
   "outputs": [
    {
     "ename": "TypeError",
     "evalue": "BaseProcess.__init__() got an unexpected keyword argument 'agrgs'",
     "output_type": "error",
     "traceback": [
      "\u001b[0;31m---------------------------------------------------------------------------\u001b[0m",
      "\u001b[0;31mTypeError\u001b[0m                                 Traceback (most recent call last)",
      "Cell \u001b[0;32mIn[9], line 9\u001b[0m\n\u001b[1;32m      7\u001b[0m processes \u001b[38;5;241m=\u001b[39m []\n\u001b[1;32m      8\u001b[0m \u001b[38;5;28;01mfor\u001b[39;00m i \u001b[38;5;129;01min\u001b[39;00m \u001b[38;5;28mrange\u001b[39m(\u001b[38;5;241m4\u001b[39m):\n\u001b[0;32m----> 9\u001b[0m     x \u001b[38;5;241m=\u001b[39m \u001b[43mmultiprocessing\u001b[49m\u001b[38;5;241;43m.\u001b[39;49m\u001b[43mProcess\u001b[49m\u001b[43m(\u001b[49m\u001b[43mtarget\u001b[49m\u001b[43m \u001b[49m\u001b[38;5;241;43m=\u001b[39;49m\u001b[43m \u001b[49m\u001b[43mnumbers\u001b[49m\u001b[43m,\u001b[49m\u001b[43m \u001b[49m\u001b[43magrgs\u001b[49m\u001b[43m \u001b[49m\u001b[38;5;241;43m=\u001b[39;49m\u001b[43m(\u001b[49m\u001b[43mi\u001b[49m\u001b[43m,\u001b[49m\u001b[43m)\u001b[49m\u001b[43m)\u001b[49m\n\u001b[1;32m     10\u001b[0m     processes\u001b[38;5;241m.\u001b[39mappend(x)\n\u001b[1;32m     11\u001b[0m     x\u001b[38;5;241m.\u001b[39mstart()\n",
      "\u001b[0;31mTypeError\u001b[0m: BaseProcess.__init__() got an unexpected keyword argument 'agrgs'"
     ]
    }
   ],
   "source": [
    "import multiprocessing\n",
    "\n",
    "def numbers(num):\n",
    "    print(num)\n",
    "    \n",
    "if __name__ == '__main__':\n",
    "    processes = []\n",
    "    for i in range(4):\n",
    "        x = multiprocessing.Process(target = numbers, agrgs =(i,))\n",
    "        processes.append(x)\n",
    "        x.start()\n",
    "    for i in processes:\n",
    "        x.join()"
   ]
  },
  {
   "cell_type": "code",
   "execution_count": null,
   "id": "5bb44e3b-0da8-443b-9f7c-26eeac7dc0fc",
   "metadata": {},
   "outputs": [],
   "source": []
  },
  {
   "cell_type": "code",
   "execution_count": null,
   "id": "767b35fb-9417-4972-b8d7-5a5b7eb8960d",
   "metadata": {},
   "outputs": [],
   "source": []
  },
  {
   "cell_type": "code",
   "execution_count": null,
   "id": "008ef8e7-a91d-40d0-960d-52ffeda067af",
   "metadata": {},
   "outputs": [],
   "source": []
  }
 ],
 "metadata": {
  "kernelspec": {
   "display_name": "Python 3 (ipykernel)",
   "language": "python",
   "name": "python3"
  },
  "language_info": {
   "codemirror_mode": {
    "name": "ipython",
    "version": 3
   },
   "file_extension": ".py",
   "mimetype": "text/x-python",
   "name": "python",
   "nbconvert_exporter": "python",
   "pygments_lexer": "ipython3",
   "version": "3.10.8"
  }
 },
 "nbformat": 4,
 "nbformat_minor": 5
}
